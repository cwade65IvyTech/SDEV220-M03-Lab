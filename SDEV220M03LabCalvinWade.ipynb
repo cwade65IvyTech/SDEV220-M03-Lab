{
 "cells": [
  {
   "cell_type": "markdown",
   "id": "a0554341",
   "metadata": {},
   "source": [
    "Calvin Wade"
   ]
  },
  {
   "cell_type": "markdown",
   "id": "b6a7ec81",
   "metadata": {},
   "source": [
    "SDEV220M03LabCalvinWade"
   ]
  },
  {
   "cell_type": "markdown",
   "id": "60e65c0a",
   "metadata": {},
   "source": [
    "This program defines a Vehicle parent class with an attribute for vehicle type.  It also defines an Automobile child class which inherits the type attribute from the vehicle class and has its own attributes for year manufactured, make, model, the number of doors, and type of roof.  The program creates an object of the Automobile class called \"your_ride\" and then asks for user input and stores the user's inputs into the attributes of the aforementioned classes.  It then outputs the user's entries in an easy-to-read format."
   ]
  },
  {
   "cell_type": "code",
   "execution_count": null,
   "id": "7296ff09",
   "metadata": {},
   "outputs": [
    {
     "name": "stdout",
     "output_type": "stream",
     "text": [
      "Vehicle type: Car\n",
      "Year: 2006\n",
      "Make: Pontiac\n",
      "Model: G6\n",
      "Number of doors: 4\n",
      "Type of roof: Hard top\n"
     ]
    }
   ],
   "source": [
    "class Vehicle():\n",
    "    def __init__(self,type):\n",
    "        self.type = type\n",
    "class Automobile(Vehicle):\n",
    "    def __init__(self, type, year, make, model, doors, roof):\n",
    "        super().__init__(type)\n",
    "        self.year = year\n",
    "        self.make = make\n",
    "        self.model = model\n",
    "        self.doors = doors\n",
    "        self.roof = roof\n",
    "your_ride = Automobile(input(\"Please enter the type of automobile you have: \"), input(\"Please enter your the year your vehicle was manufactured: \"),\n",
    "                       input(\"Please enter your vehicle's make: \"), input(\"Please enter your vehicle's model: \"),\n",
    "                       input(\"Please enter how many doors your vehicle has: \"), input(\" Please enter the type of roof your vehicle has: \"))\n",
    "print(f\"Vehicle type: {your_ride.type}\\nYear: {your_ride.year}\\nMake: {your_ride.make}\\nModel: {your_ride.model}\\nNumber of doors: {your_ride.doors}\\nType of roof: {your_ride.roof}\")"
   ]
  }
 ],
 "metadata": {
  "kernelspec": {
   "display_name": "base",
   "language": "python",
   "name": "python3"
  },
  "language_info": {
   "codemirror_mode": {
    "name": "ipython",
    "version": 3
   },
   "file_extension": ".py",
   "mimetype": "text/x-python",
   "name": "python",
   "nbconvert_exporter": "python",
   "pygments_lexer": "ipython3",
   "version": "3.13.5"
  }
 },
 "nbformat": 4,
 "nbformat_minor": 5
}
